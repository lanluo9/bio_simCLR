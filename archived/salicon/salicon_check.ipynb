{
 "cells": [
  {
   "cell_type": "markdown",
   "metadata": {},
   "source": [
    "# check 1 file"
   ]
  },
  {
   "cell_type": "code",
   "execution_count": 3,
   "metadata": {},
   "outputs": [
    {
     "data": {
      "text/plain": [
       "dict_keys(['__header__', '__version__', '__globals__', 'image', 'resolution', 'gaze'])"
      ]
     },
     "execution_count": 3,
     "metadata": {},
     "output_type": "execute_result"
    }
   ],
   "source": [
    "import scipy.io as sio\n",
    "file_name = r'D:\\repo\\bio_simCLR\\demo\\COCO_train2014_000000000009.mat'.replace('\\\\', '/')\n",
    "data = sio.loadmat(file_name)\n",
    "data.keys()"
   ]
  },
  {
   "cell_type": "code",
   "execution_count": 21,
   "metadata": {},
   "outputs": [
    {
     "data": {
      "text/plain": [
       "array([[330, 302],\n",
       "       [222, 402],\n",
       "       [237, 272],\n",
       "       [233, 156],\n",
       "       [275,  81],\n",
       "       [451,  78],\n",
       "       [587, 181],\n",
       "       [595, 236],\n",
       "       [595, 248]], dtype=uint16)"
      ]
     },
     "execution_count": 21,
     "metadata": {},
     "output_type": "execute_result"
    }
   ],
   "source": [
    "# data['gaze']['timestamp'][0][0][:10], \\\n",
    "# data['gaze']['location'][0][0][:10], \\\n",
    "data['gaze']['fixations'][0][0][:10]"
   ]
  },
  {
   "cell_type": "code",
   "execution_count": 26,
   "metadata": {},
   "outputs": [
    {
     "data": {
      "text/plain": [
       "(9, 2)"
      ]
     },
     "execution_count": 26,
     "metadata": {},
     "output_type": "execute_result"
    }
   ],
   "source": [
    "data['gaze']['fixations'][0][0][:].shape"
   ]
  },
  {
   "cell_type": "markdown",
   "metadata": {},
   "source": [
    "# check train & val files\n",
    "\n",
    "70% of images have >= 6 fixations.  \n",
    "10K train -> 7K train  \n",
    "5K val -> 3.5K val"
   ]
  },
  {
   "cell_type": "code",
   "execution_count": null,
   "metadata": {},
   "outputs": [],
   "source": [
    "import numpy as np\n",
    "import scipy.io as sio\n",
    "import matplotlib.pyplot as plt"
   ]
  },
  {
   "cell_type": "code",
   "execution_count": 33,
   "metadata": {},
   "outputs": [
    {
     "data": {
      "text/plain": [
       "7191"
      ]
     },
     "execution_count": 33,
     "metadata": {},
     "output_type": "execute_result"
    },
    {
     "data": {
      "image/png": "[encoded data removed]",
      "text/plain": [
       "<Figure size 432x288 with 1 Axes>"
      ]
     },
     "metadata": {
      "needs_background": "light"
     },
     "output_type": "display_data"
    }
   ],
   "source": [
    "dir_train = r'D:\\repo\\bio_simCLR\\salicon\\fixations\\train'.replace('\\\\', '/')\n",
    "def get_file_names(dir_name):\n",
    "    import os\n",
    "    file_names = os.listdir(dir_name)\n",
    "    return file_names\n",
    "file_names = get_file_names(dir_train)\n",
    "file_names = [dir_train + '/' + file_name for file_name in file_names]\n",
    "\n",
    "# count the number of fixations in each file\n",
    "def count_fixations(file_name):\n",
    "    data = sio.loadmat(file_name)\n",
    "    nfix = data['gaze']['fixations'][0][0].shape[0]\n",
    "    return nfix\n",
    "nfix_train = [count_fixations(file_name) for file_name in file_names] # 20 s for 10K files\n",
    "plt.hist(nfix_train, bins=100);\n",
    "\n",
    "nfix_train = np.array(nfix_train)\n",
    "sum(nfix_train >= 6)"
   ]
  },
  {
   "cell_type": "code",
   "execution_count": 31,
   "metadata": {},
   "outputs": [
    {
     "data": {
      "text/plain": [
       "3518"
      ]
     },
     "execution_count": 31,
     "metadata": {},
     "output_type": "execute_result"
    },
    {
     "data": {
      "image/png": "[encoded data removed]",
      "text/plain": [
       "<Figure size 432x288 with 1 Axes>"
      ]
     },
     "metadata": {
      "needs_background": "light"
     },
     "output_type": "display_data"
    }
   ],
   "source": [
    "dir_val = r'D:\\repo\\bio_simCLR\\salicon\\fixations\\val'.replace('\\\\', '/')\n",
    "file_names = get_file_names(dir_val)\n",
    "file_names = [dir_val + '/' + file_name for file_name in file_names]\n",
    "\n",
    "nfix_val = [count_fixations(file_name) for file_name in file_names] # 10 s for 5K files\n",
    "plt.hist(nfix_val, bins=100);\n",
    "\n",
    "nfix_val = np.array(nfix_val)\n",
    "sum(nfix_val >= 6)"
   ]
  }
 ],
 "metadata": {
  "kernelspec": {
   "display_name": "Python 3.7.6 ('base')",
   "language": "python",
   "name": "python3"
  },
  "language_info": {
   "codemirror_mode": {
    "name": "ipython",
    "version": 3
   },
   "file_extension": ".py",
   "mimetype": "text/x-python",
   "name": "python",
   "nbconvert_exporter": "python",
   "pygments_lexer": "ipython3",
   "version": "3.7.6"
  },
  "orig_nbformat": 4,
  "vscode": {
   "interpreter": {
    "hash": "ec914cbb273dbefc52be6724be800e62abca1823c4fe2d1dfe36c964e75ce01e"
   }
  }
 },
 "nbformat": 4,
 "nbformat_minor": 2
}
