{
  "nbformat": 4,
  "nbformat_minor": 0,
  "metadata": {
    "colab": {
      "name": "scanpath_train_simCLR_py.ipynb",
      "provenance": [],
      "collapsed_sections": [],
      "machine_shape": "hm"
    },
    "kernelspec": {
      "name": "python3",
      "display_name": "Python 3"
    },
    "language_info": {
      "name": "python"
    },
    "gpuClass": "standard",
    "accelerator": "GPU"
  },
  "cells": [
    {
      "cell_type": "markdown",
      "source": [
        "# wrap into py"
      ],
      "metadata": {
        "id": "vjlDcp9BOPCX"
      }
    },
    {
      "cell_type": "code",
      "source": [
        "from google.colab import drive\n",
        "drive.mount('/content/gdrive/')\n",
        "\n",
        "import sys\n",
        "sys.path.append('/content/gdrive/MyDrive/bio_simCLR')\n",
        "%load_ext autoreload\n",
        "%autoreload 2\n",
        "\n",
        "%ls /content/gdrive/MyDrive/bio_simCLR"
      ],
      "metadata": {
        "colab": {
          "base_uri": "https://localhost:8080/"
        },
        "id": "wP0LpseAORrT",
        "outputId": "10a1045c-7eef-478c-a4fe-198479cdf701"
      },
      "execution_count": 2,
      "outputs": [
        {
          "output_type": "stream",
          "name": "stdout",
          "text": [
            "Drive already mounted at /content/gdrive/; to attempt to forcibly remount, call drive.mount(\"/content/gdrive/\", force_remount=True).\n",
            "The autoreload extension is already loaded. To reload it, use:\n",
            "  %reload_ext autoreload\n",
            "deepgaze_scanpath.py  stl10_binary.tar.gz\n",
            "run_magnif_mod.py     stl10_unlabeled_salmaps_salicon.npy\n",
            "scanpaths.tar.bz      stl10_unlabeled_scanpath_deepgaze.npy\n"
          ]
        }
      ]
    },
    {
      "cell_type": "code",
      "source": [
        "# !python /content/gdrive/MyDrive/bio_simCLR/\n",
        "\n",
        "%cd /content/gdrive/MyDrive/bio_simCLR\n",
        "\n",
        "!python run_magnif_mod.py -data /content/Dataset -dataset-name stl10 \\\n",
        "    --workers 4 --log_root /content/Foveated_Saccade_SimCLR-dev/runs  --randomize_seed \\\n",
        "    --ckpt_every_n_epocs 1 --epochs 100  --batch-size 16  --out_dim 256  \\\n",
        "    --run_label test  --magnif \\\n",
        "    --disable_blur  --cover_ratio 0.05 0.35  --fov_size 20 \\\n",
        "    --gridfunc_form radial_quad  --sample_temperature 1.5  --sampling_bdr 16 \\\n",
        "    --K 20  --temperature 0.07"
      ],
      "metadata": {
        "id": "B1RMQb1sSmAz",
        "colab": {
          "base_uri": "https://localhost:8080/"
        },
        "outputId": "1f16adc3-2e64-4a0b-c746-e41e6095560c"
      },
      "execution_count": null,
      "outputs": [
        {
          "output_type": "stream",
          "name": "stdout",
          "text": [
            "/content/gdrive/MyDrive/bio_simCLR\n",
            "\n",
            "download Foveated_Saccade_SimCLR\n",
            "\n",
            "--2022-08-22 05:05:44--  https://github.com/Animadversio/Foveated_Saccade_SimCLR/archive/refs/heads/dev.zip\n",
            "Resolving github.com (github.com)... 20.27.177.113\n",
            "Connecting to github.com (github.com)|20.27.177.113|:443... connected.\n",
            "HTTP request sent, awaiting response... 302 Found\n",
            "Location: https://codeload.github.com/Animadversio/Foveated_Saccade_SimCLR/zip/refs/heads/dev [following]\n",
            "--2022-08-22 05:05:45--  https://codeload.github.com/Animadversio/Foveated_Saccade_SimCLR/zip/refs/heads/dev\n",
            "Resolving codeload.github.com (codeload.github.com)... 20.27.177.114\n",
            "Connecting to codeload.github.com (codeload.github.com)|20.27.177.114|:443... connected.\n",
            "HTTP request sent, awaiting response... 200 OK\n",
            "Length: 1613003 (1.5M) [application/zip]\n",
            "Saving to: ‘dev.zip’\n",
            "\n",
            "dev.zip             100%[===================>]   1.54M  5.60MB/s    in 0.3s    \n",
            "\n",
            "2022-08-22 05:05:46 (5.60 MB/s) - ‘dev.zip’ saved [1613003/1613003]\n",
            "\n",
            "\n",
            "download revision in bio_simclr\n",
            "\n",
            "--2022-08-22 05:05:46--  https://github.com/lanluo9/bio_simCLR/archive/refs/heads/master.zip\n",
            "Resolving github.com (github.com)... 20.27.177.113\n",
            "Connecting to github.com (github.com)|20.27.177.113|:443... connected.\n",
            "HTTP request sent, awaiting response... 302 Found\n",
            "Location: https://codeload.github.com/lanluo9/bio_simCLR/zip/refs/heads/master [following]\n",
            "--2022-08-22 05:05:46--  https://codeload.github.com/lanluo9/bio_simCLR/zip/refs/heads/master\n",
            "Resolving codeload.github.com (codeload.github.com)... 20.27.177.114\n",
            "Connecting to codeload.github.com (codeload.github.com)|20.27.177.114|:443... connected.\n",
            "HTTP request sent, awaiting response... 200 OK\n",
            "Length: unspecified [application/zip]\n",
            "Saving to: ‘master.zip’\n",
            "\n",
            "master.zip              [        <=>         ]  23.24M  7.74MB/s    in 3.0s    \n",
            "\n",
            "2022-08-22 05:05:50 (7.74 MB/s) - ‘master.zip’ saved [24364506]\n",
            "\n",
            "\n",
            "replacing revised files\n",
            "\n",
            "\n",
            "pip install kornia & gdown\n",
            "\n",
            "Looking in indexes: https://pypi.org/simple, https://us-python.pkg.dev/colab-wheels/public/simple/\n",
            "Requirement already satisfied: kornia in /usr/local/lib/python3.7/dist-packages (0.6.6)\n",
            "Requirement already satisfied: torch>=1.8.1 in /usr/local/lib/python3.7/dist-packages (from kornia) (1.12.1+cu113)\n",
            "Requirement already satisfied: packaging in /usr/local/lib/python3.7/dist-packages (from kornia) (21.3)\n",
            "Requirement already satisfied: typing-extensions in /usr/local/lib/python3.7/dist-packages (from torch>=1.8.1->kornia) (4.1.1)\n",
            "Requirement already satisfied: pyparsing!=3.0.5,>=2.0.2 in /usr/local/lib/python3.7/dist-packages (from packaging->kornia) (3.0.9)\n",
            "Looking in indexes: https://pypi.org/simple, https://us-python.pkg.dev/colab-wheels/public/simple/\n",
            "Requirement already satisfied: gdown in /usr/local/lib/python3.7/dist-packages (4.4.0)\n",
            "Requirement already satisfied: six in /usr/local/lib/python3.7/dist-packages (from gdown) (1.15.0)\n",
            "Requirement already satisfied: beautifulsoup4 in /usr/local/lib/python3.7/dist-packages (from gdown) (4.6.3)\n",
            "Requirement already satisfied: requests[socks] in /usr/local/lib/python3.7/dist-packages (from gdown) (2.23.0)\n",
            "Requirement already satisfied: filelock in /usr/local/lib/python3.7/dist-packages (from gdown) (3.8.0)\n",
            "Requirement already satisfied: tqdm in /usr/local/lib/python3.7/dist-packages (from gdown) (4.64.0)\n",
            "Requirement already satisfied: certifi>=2017.4.17 in /usr/local/lib/python3.7/dist-packages (from requests[socks]->gdown) (2022.6.15)\n",
            "Requirement already satisfied: urllib3!=1.25.0,!=1.25.1,<1.26,>=1.21.1 in /usr/local/lib/python3.7/dist-packages (from requests[socks]->gdown) (1.24.3)\n",
            "Requirement already satisfied: idna<3,>=2.5 in /usr/local/lib/python3.7/dist-packages (from requests[socks]->gdown) (2.10)\n",
            "Requirement already satisfied: chardet<4,>=3.0.2 in /usr/local/lib/python3.7/dist-packages (from requests[socks]->gdown) (3.0.4)\n",
            "Requirement already satisfied: PySocks!=1.5.7,>=1.5.6 in /usr/local/lib/python3.7/dist-packages (from requests[socks]->gdown) (1.7.1)\n",
            "\n",
            "download predicted scanpath\n",
            "\n",
            "Downloading...\n",
            "From: https://drive.google.com/uc?id=1-2QtN-V8IYA5qGH5R1zbN53K3u2aOhPE\n",
            "To: /content/Dataset/stl10_unlabeled_scanpath_deepgaze.npy\n",
            "100% 32.0M/32.0M [00:00<00:00, 198MB/s]\n",
            "\n",
            "download predicted saliency map\n",
            "\n",
            "Downloading...\n",
            "From: https://drive.google.com/uc?id=1cXp7Qg0O23lGyYnjS1a7oUCOY8hw3ckn\n",
            "To: /content/Dataset/stl10_unlabeled_salmaps_salicon.npy\n",
            "100% 3.69G/3.69G [00:42<00:00, 86.7MB/s]\n",
            "\n",
            "current directory: /content/Foveated_Saccade_SimCLR-dev\n",
            "\n",
            "Namespace(K=20.0, arch='resnet18', batch_size=16, blur=False, ckpt_every_n_epocs=1, cover_ratio=[0.05, 0.35], crop=False, data='/content/Dataset', dataset_name='stl10', device=device(type='cuda'), disable_blur=True, disable_cuda=False, dry_run=False, epochs=100, fov_size=20.0, fp16_precision=False, gpu_index=0, gridfunc_form='radial_quad', log_every_n_steps=100, log_root='/content/Foveated_Saccade_SimCLR-dev/runs', lr=0.0003, magnif=True, n_views=2, out_dim=256, randomize_seed=True, run_label='test', sal_control=False, sal_sample=False, sample_temperature=1.5, sampling_bdr=16, seed=None, slope_C=1.5, temperature=0.07, weight_decay=0.0001, workers=4)\n",
            "Files already downloaded and verified\n",
            "tcmalloc: large alloc 2764800000 bytes == 0x6d32000 @  0x7f7dc492a1e7 0x7f7d515850ce 0x7f7d515dce57 0x7f7d515dda6f 0x7f7d51683c5d 0x593835 0x548c51 0x5127f1 0x549576 0x593fce 0x511e2c 0x549e0e 0x4bca8a 0x532b86 0x594a96 0x548cc1 0x5127f1 0x549576 0x4bca8a 0x532b86 0x594a96 0x548cc1 0x5127f1 0x593dd7 0x5118f8 0x549576 0x604173 0x5f5506 0x5f8c6c 0x5f9206 0x64faf2\n",
            "tcmalloc: large alloc 3686400000 bytes == 0xabaae000 @  0x7f7dc492a1e7 0x7f7d515850ce 0x7f7d515dce57 0x7f7d515dda6f 0x7f7d51683c5d 0x593835 0x548c51 0x5127f1 0x549576 0x593fce 0x548ae9 0x5127f1 0x549576 0x593fce 0x548ae9 0x5127f1 0x549576 0x4bca8a 0x532b86 0x594a96 0x548cc1 0x5127f1 0x593dd7 0x5118f8 0x549576 0x604173 0x5f5506 0x5f8c6c 0x5f9206 0x64faf2 0x64fc4e\n",
            "Use randomized seed to test robustness, seed=7288588121716496651\n",
            "/usr/local/lib/python3.7/dist-packages/torchvision/models/_utils.py:209: UserWarning: The parameter 'pretrained' is deprecated since 0.13 and will be removed in 0.15, please use 'weights' instead.\n",
            "  f\"The parameter '{pretrained_param}' is deprecated since 0.13 and will be removed in 0.15, \"\n",
            "/usr/local/lib/python3.7/dist-packages/torchvision/models/_utils.py:223: UserWarning: Arguments other than a weight enum or `None` for 'weights' are deprecated since 0.13 and will be removed in 0.15. The current behavior is equivalent to passing `weights=None`.\n",
            "  warnings.warn(msg)\n",
            "96659\n",
            "/usr/local/lib/python3.7/dist-packages/torch/nn/functional.py:4216: UserWarning: Default grid_sample and affine_grid behavior has changed to align_corners=False since 1.3.0. Please specify align_corners=True if the old behavior is desired. See the documentation of grid_sample for details.\n",
            "  \"Default grid_sample and affine_grid behavior has changed \"\n",
            "54019\n",
            "88327\n",
            "81148\n",
            "98469\n",
            "77493\n",
            "131\n",
            "58202\n",
            "66666\n",
            "65017\n",
            "1973\n",
            "29975\n",
            "Files already downloaded and verified\n",
            "Files already downloaded and verified\n",
            "### Creating features from pre-trained context model ###\n",
            "Step [0/19]\t Computing features...\n",
            "Features shape (4864, 512)\n",
            "Step [0/31]\t Computing features...\n",
            "Step [20/31]\t Computing features...\n",
            "Features shape (7936, 512)\n",
            "Epoch [99/500]\t Loss: 1.7979320099479275\t Accuracy: 0.3885690789473684\n",
            "Epoch [199/500]\t Loss: 1.6725628501490544\t Accuracy: 0.4350328947368421\n",
            "Epoch [299/500]\t Loss: 1.5949564231069464\t Accuracy: 0.4621710526315789\n",
            "Epoch [399/500]\t Loss: 1.538283341809323\t Accuracy: 0.48334703947368424\n",
            "Epoch [499/500]\t Loss: 1.4937926781804938\t Accuracy: 0.49609375\n",
            "[FINAL]\t Loss: 1.7042157457720848\t Accuracy: 0.38482862903225806\n",
            "epoch_counter = 0\n",
            "set current epoch to 0\n",
            "set epoch = 0\n",
            "  0% 0/6250 [00:00<?, ?it/s]/usr/local/lib/python3.7/dist-packages/torch/optim/lr_scheduler.py:729: UserWarning: To get the last learning rate computed by the scheduler, please use `get_last_lr()`.\n",
            "  \"please use `get_last_lr()`.\", UserWarning)\n",
            " 71% 4458/6250 [03:52<01:34, 18.99it/s]"
          ]
        }
      ]
    },
    {
      "cell_type": "code",
      "source": [
        "# import time\n",
        "# time.sleep(3600*2)"
      ],
      "metadata": {
        "id": "s4r1maEAsG_j"
      },
      "execution_count": 5,
      "outputs": []
    },
    {
      "cell_type": "code",
      "source": [
        "%ls /content/Dataset"
      ],
      "metadata": {
        "colab": {
          "base_uri": "https://localhost:8080/"
        },
        "id": "GRqo22iV4HLu",
        "outputId": "2da9a00b-77ef-4d55-8f94-794435e1feb9"
      },
      "execution_count": 23,
      "outputs": [
        {
          "output_type": "stream",
          "name": "stdout",
          "text": [
            "\u001b[0m\u001b[01;34mstl10_binary\u001b[0m/        stl10_unlabeled_salmaps_salicon.npy\n",
            "stl10_binary.tar.gz  stl10_unlabeled_scanpath_deepgaze.npy\n"
          ]
        }
      ]
    },
    {
      "cell_type": "code",
      "source": [
        "%ls Dataset\n",
        "%pwd"
      ],
      "metadata": {
        "colab": {
          "base_uri": "https://localhost:8080/",
          "height": 140
        },
        "id": "f9OZD4lqji1F",
        "outputId": "3d1f8382-c19b-4815-da4b-1d46d5bb3fe3"
      },
      "execution_count": 18,
      "outputs": [
        {
          "output_type": "stream",
          "name": "stdout",
          "text": [
            " stl10_unlabeled_salmaps_salicon.npy\n",
            " stl10_unlabeled_scanpath_deepgaze.npy\n",
            "'uc?id=1-2QtN-V8IYA5qGH5R1zbN53K3u2aOhPE.1'\n",
            "'uc?id=1-2QtN-V8IYA5qGH5R1zbN53K3u2aOhPE.2'\n",
            "'uc?id=1-2QtN-V8IYA5qGH5R1zbN53K3u2aOhPE.3'\n",
            "'uc?id=1cXp7Qg0O23lGyYnjS1a7oUCOY8hw3ckn.1'\n"
          ]
        },
        {
          "output_type": "execute_result",
          "data": {
            "text/plain": [
              "'/content/gdrive/MyDrive/bio_simCLR'"
            ],
            "application/vnd.google.colaboratory.intrinsic+json": {
              "type": "string"
            }
          },
          "metadata": {},
          "execution_count": 18
        }
      ]
    },
    {
      "cell_type": "code",
      "source": [
        "%ls bio_simCLR-master/scanpath_pipeline/"
      ],
      "metadata": {
        "colab": {
          "base_uri": "https://localhost:8080/"
        },
        "id": "VoOOveMni9l2",
        "outputId": "46de8dfe-bbe6-4625-e728-40a62533bf9f"
      },
      "execution_count": 25,
      "outputs": [
        {
          "output_type": "stream",
          "name": "stdout",
          "text": [
            "'colorfalloff w fake scanpath.png'\n",
            " DeepGaze3_predict_scanpath_py.ipynb\n",
            " deepgaze_scanpath.py\n",
            "'no colorfalloff w fake scanpath.png'\n",
            " scanpath_train_simCLRipynb.ipynb\n",
            " substitute_saliency_sampling_with_predicted_scanpath.ipynb\n"
          ]
        }
      ]
    },
    {
      "cell_type": "code",
      "source": [
        "%ls Foveated_Saccade_SimCLR-dev/data_aug"
      ],
      "metadata": {
        "colab": {
          "base_uri": "https://localhost:8080/"
        },
        "id": "woRNyXuOicpA",
        "outputId": "c2b752f4-324f-4517-ff77-9af6aa4f70c5"
      },
      "execution_count": 26,
      "outputs": [
        {
          "output_type": "stream",
          "name": "stdout",
          "text": [
            "aug_utils.py                     foveation.py\n",
            "calc_saliency.py                 gaussian_blur.py\n",
            "contrastive_learning_dataset.py  saliency_random_cropper.py\n",
            "cort_magnif_tfm.py               view_generator.py\n",
            "dataset_w_salmap.py              visualize_aug_dataset.py\n"
          ]
        }
      ]
    }
  ]
}