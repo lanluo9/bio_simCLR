{
  "nbformat": 4,
  "nbformat_minor": 0,
  "metadata": {
    "colab": {
      "name": "DeepGaze3_predict_scanpath_py.ipynb",
      "provenance": [],
      "collapsed_sections": [],
      "machine_shape": "hm",
      "toc_visible": true
    },
    "kernelspec": {
      "name": "python3",
      "display_name": "Python 3"
    },
    "language_info": {
      "name": "python"
    },
    "accelerator": "GPU",
    "gpuClass": "standard"
  },
  "cells": [
    {
      "cell_type": "markdown",
      "source": [
        "# wrap into py"
      ],
      "metadata": {
        "id": "vjlDcp9BOPCX"
      }
    },
    {
      "cell_type": "code",
      "source": [
        "from google.colab import drive\n",
        "drive.mount('/content/gdrive/')\n",
        "\n",
        "import sys\n",
        "sys.path.append('/content/gdrive/MyDrive/bio_simCLR')\n",
        "%load_ext autoreload\n",
        "%autoreload 2\n",
        "\n",
        "%ls /content/gdrive/MyDrive/bio_simCLR"
      ],
      "metadata": {
        "colab": {
          "base_uri": "https://localhost:8080/"
        },
        "id": "wP0LpseAORrT",
        "outputId": "960067da-999b-4774-eed2-e14818175f2c"
      },
      "execution_count": null,
      "outputs": [
        {
          "output_type": "stream",
          "name": "stdout",
          "text": [
            "Mounted at /content/gdrive/\n",
            "deepgaze_scanpath.py  scanpaths.tar.bz  stl10_unlabeled_salmaps_salicon.npy\n"
          ]
        }
      ]
    },
    {
      "cell_type": "code",
      "source": [
        "# !python /content/gdrive/MyDrive/bio_simCLR/deepgaze_scanpath.py --parallel_id 5"
      ],
      "metadata": {
        "id": "B1RMQb1sSmAz"
      },
      "execution_count": null,
      "outputs": []
    },
    {
      "cell_type": "markdown",
      "source": [
        "# combine to large npy"
      ],
      "metadata": {
        "id": "0CBHXSLW8Ud2"
      }
    },
    {
      "cell_type": "code",
      "source": [
        "import glob\n",
        "from tqdm import tqdm\n",
        "import numpy as np\n",
        "import matplotlib.pyplot as plt"
      ],
      "metadata": {
        "id": "E6jgKJE1-zUt"
      },
      "execution_count": null,
      "outputs": []
    },
    {
      "cell_type": "code",
      "source": [
        "!tar -xvzf /content/gdrive/MyDrive/bio_simCLR/scanpaths.tar.bz"
      ],
      "metadata": {
        "id": "esm1fFDu8T31"
      },
      "execution_count": null,
      "outputs": []
    },
    {
      "cell_type": "code",
      "source": [
        "%cd /content/scanpaths/\n",
        "\n",
        "npy_files = glob.glob(\"*.npy\")\n",
        "\n",
        "dataset_len = 100000\n",
        "nfix_total = 20\n",
        "scanpath_arr = scanpath_arr = np.zeros((dataset_len, nfix_total, 2)) # n img, n fix per img, x & y\n",
        "\n",
        "for i in tqdm(range(dataset_len)):\n",
        "  scanpath_filename = f'stl10_unlabeled_scanpath_deepgaze_{i}.npy'\n",
        "  try:\n",
        "    scanpath_single = np.load(scanpath_filename)\n",
        "    scanpath_arr[i,:,:] = scanpath_single\n",
        "  except:\n",
        "    print('not exist')\n",
        "    continue\n",
        "  \n",
        "# 89%|████████▉ | 88778/100000 [00:33<00:03, 2995.02it/s] \n",
        "# then not exist"
      ],
      "metadata": {
        "id": "oKsM84ZE87RY"
      },
      "execution_count": null,
      "outputs": []
    },
    {
      "cell_type": "code",
      "source": [
        "plt.imshow(scanpath_arr[88126, :, :]); # all zeros from 88127 onwards (included)"
      ],
      "metadata": {
        "colab": {
          "base_uri": "https://localhost:8080/",
          "height": 265
        },
        "id": "hWdDuwf2_9Ou",
        "outputId": "fdcfdd9a-8e21-459c-f681-864a9ceaee7f"
      },
      "execution_count": null,
      "outputs": [
        {
          "output_type": "display_data",
          "data": {
            "text/plain": [
              "<Figure size 432x288 with 1 Axes>"
            ],
            "image/png": "[encoded data removed]"
          },
          "metadata": {
            "needs_background": "light"
          }
        }
      ]
    }
  ]
}